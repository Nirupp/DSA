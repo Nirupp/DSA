{
 "cells": [
  {
   "cell_type": "code",
   "execution_count": 6,
   "metadata": {},
   "outputs": [
    {
     "name": "stdout",
     "output_type": "stream",
     "text": [
      "Enter Stringabcde12\n",
      "no of vowels 2\n",
      "no of consonants 3\n",
      "no of special characters 2\n"
     ]
    }
   ],
   "source": [
    "#Question 1\n",
    "s = input(\"Enter String\")\n",
    "v=0\n",
    "c=0\n",
    "sc=0\n",
    "for i in s:\n",
    "    if(i==\"a\" or i==\"e\" or i==\"i\" or i==\"o\" or i==\"u\"):\n",
    "        v=v+1\n",
    "    elif(i>=\"0\" and i<=\"9\"):\n",
    "        sc=sc+1\n",
    "    else:\n",
    "        c=c+1\n",
    "print(\"no of vowels\",v)\n",
    "print(\"no of consonants\",c)\n",
    "print(\"no of special characters\",sc)\n",
    "    \n",
    "    \n",
    "\n"
   ]
  },
  {
   "cell_type": "code",
   "execution_count": 9,
   "metadata": {
    "scrolled": false
   },
   "outputs": [
    {
     "name": "stdout",
     "output_type": "stream",
     "text": [
      "enterabbaaccbbaaa\n",
      "0\n"
     ]
    }
   ],
   "source": [
    "#Question 2\n",
    "s = input(\"Enter String\")\n",
    "#i = 0\n",
    "#a = 0\n",
    "#for i in s:\n",
    " ##   if(i==\"a\"):\n",
    "   #     a=a+1\n",
    "#print(\"Output\",a)  \n"
   ]
  },
  {
   "cell_type": "code",
   "execution_count": 12,
   "metadata": {
    "scrolled": true
   },
   "outputs": [
    {
     "name": "stdout",
     "output_type": "stream",
     "text": [
      "enter the string((((()()()))))()\n",
      "8\n"
     ]
    }
   ],
   "source": [
    "#Question 3\n",
    "str=input(\"enter the string\")\n",
    "c1=0\n",
    "c2=0\n",
    "for i in range(0,len(str)):\n",
    "    if(str[i]=='('):\n",
    "        c1=c1+1\n",
    "    else:\n",
    "        c2=c2+1\n",
    "if(c1==c2):\n",
    "    print(c1)"
   ]
  },
  {
   "cell_type": "code",
   "execution_count": 13,
   "metadata": {},
   "outputs": [
    {
     "name": "stdout",
     "output_type": "stream",
     "text": [
      " Please Enter the Maximum Value : 10\n",
      "9\n"
     ]
    }
   ],
   "source": [
    "#Question 4\n",
    "maximum = int(input(\" Please Enter the Maximum Value : \"))\n",
    "count=0\n",
    "for num in range(1, maximum + 1):\n",
    "    temp = num\n",
    "    reverse = 0\n",
    "    \n",
    "    while(temp > 0):\n",
    "        Reminder = temp % 10\n",
    "        reverse = (reverse * 10) + Reminder\n",
    "        temp = temp //10\n",
    "\n",
    "    if(num == reverse):\n",
    "        count=count+1\n",
    "print(count)"
   ]
  },
  {
   "cell_type": "code",
   "execution_count": 17,
   "metadata": {},
   "outputs": [
    {
     "name": "stdout",
     "output_type": "stream",
     "text": [
      "Enter string127\n",
      "848\n"
     ]
    }
   ],
   "source": [
    "#Question 5\n",
    "def isPalindrome(s): \n",
    "    return s == s[::-1]\n",
    "\n",
    "s = input(\"Enter string\")\n",
    "ans = isPalindrome(s)\n",
    "if ans:\n",
    "    print(\"is palindrome\", s)\n",
    "else:\n",
    "    x=s[::-1]\n",
    "    y=(int(x)+int(s))\n",
    "    print(y)\n",
    "    "
   ]
  },
  {
   "cell_type": "code",
   "execution_count": null,
   "metadata": {},
   "outputs": [],
   "source": [
    "#Question 6\n",
    "\n"
   ]
  },
  {
   "cell_type": "code",
   "execution_count": 14,
   "metadata": {},
   "outputs": [
    {
     "name": "stdout",
     "output_type": "stream",
     "text": [
      "enterAppli123cation456\n",
      "21\n"
     ]
    }
   ],
   "source": [
    "#Question 7\n",
    "s=0\n",
    "a=input(\"enter\")\n",
    "for i in a:\n",
    "    if(i.isdigit()):\n",
    "        s=s+int(i)\n",
    "print(s)\n",
    "        \n",
    "\n"
   ]
  },
  {
   "cell_type": "code",
   "execution_count": 21,
   "metadata": {},
   "outputs": [
    {
     "name": "stdout",
     "output_type": "stream",
     "text": [
      "Enter Value between 0.0 an 1.0 0.85\n",
      "B\n"
     ]
    }
   ],
   "source": [
    "#Question 8\n",
    "\n",
    "s = input(\"Enter Value between 0.0 an 1.0 \")\n",
    "if (s <= \"0.0\" or s >= \"1.0\"):\n",
    "    print(\"Error\")\n",
    "elif (s >= \"0.9\"):\n",
    "    print(\"A\")\n",
    "elif (s >= \"0.8\"):\n",
    "    print(\"B\")\n",
    "elif (s >= \"0.7\"):\n",
    "    print(\"C\")\n",
    "elif (s >= \"0.6\"):\n",
    "    print(\"D\")\n",
    "else:\n",
    "    print(\"F\")"
   ]
  },
  {
   "cell_type": "code",
   "execution_count": 4,
   "metadata": {},
   "outputs": [
    {
     "name": "stdout",
     "output_type": "stream",
     "text": [
      "FizzBuzz\n",
      "1\n",
      "2\n",
      "Fizz\n",
      "4\n",
      "Buzz\n",
      "Fizz\n",
      "7\n",
      "8\n",
      "Fizz\n",
      "Buzz\n",
      "11\n",
      "Fizz\n",
      "13\n",
      "14\n",
      "FizzBuzz\n",
      "16\n",
      "17\n",
      "Fizz\n",
      "19\n",
      "Buzz\n",
      "Fizz\n",
      "22\n",
      "23\n",
      "Fizz\n",
      "Buzz\n",
      "26\n",
      "Fizz\n",
      "28\n",
      "29\n",
      "FizzBuzz\n",
      "31\n",
      "32\n",
      "Fizz\n",
      "34\n",
      "Buzz\n",
      "Fizz\n",
      "37\n",
      "38\n",
      "Fizz\n",
      "Buzz\n",
      "41\n",
      "Fizz\n",
      "43\n",
      "44\n",
      "FizzBuzz\n",
      "46\n",
      "47\n",
      "Fizz\n",
      "49\n"
     ]
    }
   ],
   "source": [
    "#Question 9\n",
    "\n",
    "for i in range(50):\n",
    "    if (i % 3 == 0) and (i % 5 == 0):\n",
    "        print(\"FizzBuzz\")\n",
    "        continue\n",
    "    elif (i % 3 == 0):\n",
    "        print(\"Fizz\")\n",
    "        continue\n",
    "    elif (i % 5 == 0):\n",
    "        print(\"Buzz\")\n",
    "        continue\n",
    "    print(i)"
   ]
  },
  {
   "cell_type": "code",
   "execution_count": 2,
   "metadata": {},
   "outputs": [
    {
     "name": "stdout",
     "output_type": "stream",
     "text": [
      "Input First Number26\n",
      "Input Second Number15\n",
      "Enter Third Number29\n",
      "Median is  26\n"
     ]
    }
   ],
   "source": [
    "#Question 10\n",
    "a = int(input(\"Input First Number\"))\n",
    "b = int(input(\"Input Second Number\"))\n",
    "c = int(input(\"Enter Third Number\"))\n",
    "if a > b and a < c:\n",
    "    print(\"Median is \", a)\n",
    "elif b > a and b < c :\n",
    "    print(\"Median is \",b)\n",
    "else:\n",
    "    print(\"Median is \",c)\n",
    "\n"
   ]
  }
 ],
 "metadata": {
  "kernelspec": {
   "display_name": "Python 3",
   "language": "python",
   "name": "python3"
  },
  "language_info": {
   "codemirror_mode": {
    "name": "ipython",
    "version": 3
   },
   "file_extension": ".py",
   "mimetype": "text/x-python",
   "name": "python",
   "nbconvert_exporter": "python",
   "pygments_lexer": "ipython3",
   "version": "3.7.4"
  }
 },
 "nbformat": 4,
 "nbformat_minor": 2
}
