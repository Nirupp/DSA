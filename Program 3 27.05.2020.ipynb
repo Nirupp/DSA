{
 "cells": [
  {
   "cell_type": "code",
   "execution_count": 13,
   "metadata": {},
   "outputs": [
    {
     "name": "stdout",
     "output_type": "stream",
     "text": [
      "Enter A value5\n",
      "Enter B value6\n",
      "Enter C value1\n",
      "-0.2\n",
      "-1.0\n"
     ]
    }
   ],
   "source": [
    "import math\n",
    "a=float(input(\"Enter A value\"))\n",
    "b=float(input(\"Enter B value\"))\n",
    "c=float(input(\"Enter C value\"))\n",
    "number = (b**2) - (4*a*c)\n",
    "sqrtno = math.sqrt(number)\n",
    "xx1 = -b + sqrtno \n",
    "x1=(xx1)/(2*a)\n",
    "print(x1)\n",
    "number = (b**2) - (4*a*c)\n",
    "sqrtno = math.sqrt(number)\n",
    "xx2 = -b - sqrtno \n",
    "x2=(xx2)/(2*a)\n",
    "print(x2)\n",
    "\n",
    "\n",
    "\n",
    "\n"
   ]
  },
  {
   "cell_type": "code",
   "execution_count": null,
   "metadata": {},
   "outputs": [],
   "source": []
  }
 ],
 "metadata": {
  "kernelspec": {
   "display_name": "Python 3",
   "language": "python",
   "name": "python3"
  },
  "language_info": {
   "codemirror_mode": {
    "name": "ipython",
    "version": 3
   },
   "file_extension": ".py",
   "mimetype": "text/x-python",
   "name": "python",
   "nbconvert_exporter": "python",
   "pygments_lexer": "ipython3",
   "version": "3.7.4"
  }
 },
 "nbformat": 4,
 "nbformat_minor": 2
}
